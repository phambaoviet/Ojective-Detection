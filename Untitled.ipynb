{
 "cells": [
  {
   "cell_type": "code",
   "execution_count": 3,
   "id": "b5bea3dc",
   "metadata": {},
   "outputs": [],
   "source": [
    "#thêm thư viện vào\n",
    "import numpy as np  #này là ma trận việc với ma trận và mảng\n",
    "import cv2          #này là thư viện làm việc với xử lý ảnh, thị giác máy tính\n",
    "import os           #này là thư viện để thực hiện các hoạt động như tạo, xóa file\n",
    "import time "
   ]
  },
  {
   "cell_type": "code",
   "execution_count": 4,
   "id": "4a0784f7",
   "metadata": {},
   "outputs": [
    {
     "data": {
      "text/plain": [
       "'4.7.0'"
      ]
     },
     "execution_count": 4,
     "metadata": {},
     "output_type": "execute_result"
    }
   ],
   "source": [
    "cv2.__version__"
   ]
  },
  {
   "cell_type": "code",
   "execution_count": 5,
   "id": "03b0bb02",
   "metadata": {},
   "outputs": [],
   "source": [
    "model_weight = \"./yolov4-tiny-custom_last.weights\"      #thêm các đường dẫn ảnh với file\n",
    "model_cfg = \"./yolov4-tiny-custom.cfg\"\n",
    "model_classname = \"./class.txt\""
   ]
  },
  {
   "cell_type": "code",
   "execution_count": 6,
   "id": "f14963b0",
   "metadata": {},
   "outputs": [
    {
     "data": {
      "text/plain": [
       "'./class.txt'"
      ]
     },
     "execution_count": 6,
     "metadata": {},
     "output_type": "execute_result"
    }
   ],
   "source": [
    "model_classname"
   ]
  },
  {
   "cell_type": "code",
   "execution_count": 7,
   "id": "15fb38c8",
   "metadata": {},
   "outputs": [
    {
     "ename": "FileNotFoundError",
     "evalue": "[WinError 3] The system cannot find the path specified: './plane_data/training'",
     "output_type": "error",
     "traceback": [
      "\u001b[1;31m---------------------------------------------------------------------------\u001b[0m",
      "\u001b[1;31mFileNotFoundError\u001b[0m                         Traceback (most recent call last)",
      "Cell \u001b[1;32mIn[7], line 1\u001b[0m\n\u001b[1;32m----> 1\u001b[0m plane_images \u001b[38;5;241m=\u001b[39m \u001b[43mos\u001b[49m\u001b[38;5;241;43m.\u001b[39;49m\u001b[43mlistdir\u001b[49m\u001b[43m(\u001b[49m\u001b[38;5;124;43m\"\u001b[39;49m\u001b[38;5;124;43m./plane_data/training\u001b[39;49m\u001b[38;5;124;43m\"\u001b[39;49m\u001b[43m)\u001b[49m                                  \u001b[38;5;66;03m#hàm này để lấy danh sách các tập tin trong thư mục \u001b[39;00m\n\u001b[0;32m      2\u001b[0m plane_images \u001b[38;5;241m=\u001b[39m [ os\u001b[38;5;241m.\u001b[39mpath\u001b[38;5;241m.\u001b[39mjoin(\u001b[38;5;124m'\u001b[39m\u001b[38;5;124m./plane_data/training\u001b[39m\u001b[38;5;124m'\u001b[39m, f) \u001b[38;5;28;01mfor\u001b[39;00m f \u001b[38;5;129;01min\u001b[39;00m plane_images]    \u001b[38;5;66;03m#hàm này để kết hợp các phần của một đường dẫn thành một đường dẫn đầy đủ\u001b[39;00m\n\u001b[0;32m      3\u001b[0m plane_images\n",
      "\u001b[1;31mFileNotFoundError\u001b[0m: [WinError 3] The system cannot find the path specified: './plane_data/training'"
     ]
    }
   ],
   "source": [
    "plane_images = os.listdir(\"./plane_data/training\")                                  #hàm này để lấy danh sách các tập tin trong thư mục \n",
    "plane_images = [ os.path.join('./plane_data/training', f) for f in plane_images]    #hàm này để kết hợp các phần của một đường dẫn thành một đường dẫn đầy đủ\n",
    "plane_images                                                                        #in ra"
   ]
  },
  {
   "cell_type": "code",
   "execution_count": 6,
   "id": "6e727eb6",
   "metadata": {},
   "outputs": [
    {
     "data": {
      "text/plain": [
       "55"
      ]
     },
     "execution_count": 6,
     "metadata": {},
     "output_type": "execute_result"
    }
   ],
   "source": [
    "number_imgs=len(plane_images)       #lưu số lượng ảnh vào biến number_imgs\n",
    "number_imgs                         #IN RA"
   ]
  },
  {
   "cell_type": "code",
   "execution_count": 7,
   "id": "09db6777",
   "metadata": {},
   "outputs": [],
   "source": [
    "def Dectection (net, image):        #hàm dectection gồm 2 tham số net và image (net là mô hình được huấn luyện để nhận diện đối tượng, image là ảnh được đưa vào)\n",
    "    color=image \n",
    "    h, w= image.shape[:2]           #lấy chiều cao và chiều rộng của ảnh\n",
    "    blobImage = cv2.dnn.blobFromImage(image, 1.0 / 255.0, (416, 416), None, True, False);   \n",
    "    #chuyển đổi ảnh thành một đối tượng blob để sử dụng với mạng YOLO tham số gồm (ảnh, tỉ lệ giá trị pixel được chia cho 255, kích thước của ảnh, tham số thứ 4 ko xài nên để none, \n",
    "    # tham số thứ năm là True để chuyển ảnh về dạng BGR, tham số thứ 6 là false để ko cắt ảnh)\n",
    "    outNames = net.getUnconnectedOutLayersNames() # Lấy danh sách các tên các layer output không được kết nối của mô hình.\n",
    "    net.setInput(blobImage)                       #Thiết lập đầu vào của mô hình là blobImage.\n",
    "    outs = net.forward(outNames)                    #Thực hiện chạy mô hình và lấy ra các giá trị đầu ra.\n",
    "    # Put efficiency information.\n",
    "    t, _=net.getPerfProfile()                       #Lấy ra thời gian chạy của mô hình\n",
    "    fps = 1000 / (t * 1000.0/ cv2.getTickFrequency()) #Tính toán số khung hình trên giây (fps) dựa trên thời gian chạy của mô hình.\n",
    "    label = 'FPS: %.2f' % fps                           #Tạo chuỗi fps để in lên ảnh\n",
    "    cv2.putText(image, label, (0, 15), cv2.FONT_HERSHEY_SIMPLEX, 0.5, (0, 255, 0)) #Vẽ chuỗi fps lên ảnh.\n",
    "\n",
    "    classIds = []\n",
    "    confidences = []\n",
    "    boxes = [] \n",
    "    #3 câu lệnh trên để Khởi tạo các list để lưu trữ thông tin về vị trí, độ tin cậy và lớp của các đối tượng được phát hiện.\n",
    "    for out in outs:                #Duyệt qua các giá trị đầu ra của mô hình để phân tích kết quả đầu ra.\n",
    "        for detection in out:\n",
    "            scores = detection[5:]\n",
    "            classId = np.argmax(scores)\n",
    "            confidence = scores [classId]\n",
    "            # numbers are [center_x, center_y, width, height]\n",
    "            if confidence > 0.2:# and classId=-41:\n",
    "                center_x= int(detection[0] * w)\n",
    "                center_y= int(detection [1] *h)\n",
    "                width= int(detection[2] * w)\n",
    "                height = int(detection[3] *h)\n",
    "                left = int(center_x - width / 2)\n",
    "                top = int(center_y - height / 2)\n",
    "                classIds.append(classId)\n",
    "                confidences.append(float(confidence)) \n",
    "                boxes.append([left, top, width, height])\n",
    "   \n",
    "    indices = cv2.dnn.NMSBoxes (boxes, confidences, 0.5, 0.7)\n",
    "    print(indices)\n",
    "    for i in indices:\n",
    "#        i = i[0]\n",
    "#này là các tọa độ x center, y center, chiều rộng, và chiều cao\n",
    "        box = boxes[i]\n",
    "        left = box[0]\n",
    "        width = box[2]\n",
    "        top = box[1] \n",
    "        height= box[3]\n",
    "        cv2.rectangle(image, (left, top), (left + width, top + height), (0, 0, 255), 2, 8, 0)           #được sử dụng để vẽ hình chữ nhật\n",
    "        cv2.putText(image, classes [classIds[i]], (left, top), cv2.FONT_HERSHEY_SIMPLEX, 1.0, (255, 255, 0),4)  #được sử dụng để thêm chữ lên các image\n",
    "    return image"
   ]
  },
  {
   "cell_type": "code",
   "execution_count": 8,
   "id": "8a10965a",
   "metadata": {},
   "outputs": [
    {
     "ename": "error",
     "evalue": "OpenCV(4.7.0) D:\\a\\opencv-python\\opencv-python\\opencv\\modules\\highgui\\src\\window.cpp:1255: error: (-2:Unspecified error) The function is not implemented. Rebuild the library with Windows, GTK+ 2.x or Cocoa support. If you are on Ubuntu or Debian, install libgtk2.0-dev and pkg-config, then re-run cmake or configure script in function 'cvNamedWindow'\n",
     "output_type": "error",
     "traceback": [
      "\u001b[1;31m---------------------------------------------------------------------------\u001b[0m",
      "\u001b[1;31merror\u001b[0m                                     Traceback (most recent call last)",
      "Cell \u001b[1;32mIn[8], line 1\u001b[0m\n\u001b[1;32m----> 1\u001b[0m \u001b[43mcv2\u001b[49m\u001b[38;5;241;43m.\u001b[39;49m\u001b[43mnamedWindow\u001b[49m\u001b[43m(\u001b[49m\u001b[38;5;124;43m'\u001b[39;49m\u001b[38;5;124;43mObjects\u001b[39;49m\u001b[38;5;124;43m'\u001b[39;49m\u001b[43m,\u001b[49m\u001b[43m \u001b[49m\u001b[43mcv2\u001b[49m\u001b[38;5;241;43m.\u001b[39;49m\u001b[43mWINDOW_AUTOSIZE\u001b[49m\u001b[43m)\u001b[49m \n\u001b[0;32m      2\u001b[0m \u001b[38;5;28;01mwith\u001b[39;00m \u001b[38;5;28mopen\u001b[39m (model_classname, \u001b[38;5;124m'\u001b[39m\u001b[38;5;124mrt\u001b[39m\u001b[38;5;124m'\u001b[39m) \u001b[38;5;28;01mas\u001b[39;00m f:\n\u001b[0;32m      3\u001b[0m     classes \u001b[38;5;241m=\u001b[39m f\u001b[38;5;241m.\u001b[39mread()\u001b[38;5;241m.\u001b[39mrstrip(\u001b[38;5;124m'\u001b[39m\u001b[38;5;130;01m\\n\u001b[39;00m\u001b[38;5;124m'\u001b[39m)\u001b[38;5;241m.\u001b[39msplit(\u001b[38;5;124m'\u001b[39m\u001b[38;5;130;01m\\n\u001b[39;00m\u001b[38;5;124m'\u001b[39m)\n",
      "\u001b[1;31merror\u001b[0m: OpenCV(4.7.0) D:\\a\\opencv-python\\opencv-python\\opencv\\modules\\highgui\\src\\window.cpp:1255: error: (-2:Unspecified error) The function is not implemented. Rebuild the library with Windows, GTK+ 2.x or Cocoa support. If you are on Ubuntu or Debian, install libgtk2.0-dev and pkg-config, then re-run cmake or configure script in function 'cvNamedWindow'\n"
     ]
    }
   ],
   "source": [
    "cv2.namedWindow('Objects', cv2.WINDOW_AUTOSIZE) #hàm này tạo ra một cửa sổ\n",
    "with open (model_classname, 'rt') as f:\n",
    "    classes = f.read().rstrip('\\n').split('\\n')\n",
    "### Load ObjectionDectection model \n",
    "net = cv2.dnn.readNetFromDarknet(model_cfg, model_weight)\n",
    "### Set back-end\n",
    "#net.setPreferableBackend (cv2.dnn. DNN_BACKEND_CUDA) \n",
    "#net.setPreferableTarget(cv2.dnn.DNN_TARGET_CUDA) \n",
    "net.setPreferableBackend (cv2.dnn.DNN_BACKEND_OPENCV)   #thiết lập backend cho một mô hình dò vật thể là opencv\n",
    "net.setPreferableTarget (cv2.dnn.DNN_TARGET_CPU)        #thiết lập target cho mô hình dò vật thể là CPU\n",
    "count_img=0         #Thiết lập biến count_img bằng 0 để đếm số lượng hình ảnh dò vật thể.\n",
    "while True:         #Lặp vô hạn cho đến khi người dùng nhập số lượng hình ảnh muốn dò và hiển thị lên màn hình.\n",
    "    count_img = int(input(\"Enter number and hit enter \")) \n",
    "    print(\"Printing type of input value\")\n",
    "    print(\"type of number \", type(count_img))\n",
    "    if count_img >=number_imgs:     #Nếu số lượng hình ảnh nhập lớn hơn hoặc bằng số lượng hình ảnh trong thư mục, đóng tất cả các cửa sổ hiển thị và thoát khỏi vòng lặp\n",
    "        cv2.destroyAllWindows()\n",
    "        break\n",
    "    objects = cv2.imread(plane_images[count_img])   #Đọc hình ảnh từ thư mục và gán cho biến objects.\n",
    "    Obj_img=Dectection (net,objects)                #Áp dụng hàm Dectection để dò vật thể trên hình ảnh objects.\n",
    "    h,w,c=Obj_img.shape                             #Lấy chiều cao, chiều rộng và số kênh của ảnh đầu ra từ hàm Dectection.\n",
    "    output = cv2.resize(Obj_img, (w,h), interpolation = cv2.INTER_AREA)     #Thay đổi kích thước của ảnh đầu ra để hiển thị trên màn hình.\n",
    "    cv2.imshow('Objects', output)\n",
    "    Keyvalue = cv2.waitKey(1)\n",
    "    if Keyvalue==27: \n",
    "        cv2.destroyAllWindows() \n",
    "        break"
   ]
  },
  {
   "cell_type": "code",
   "execution_count": 9,
   "id": "b9955394",
   "metadata": {},
   "outputs": [
    {
     "name": "stdout",
     "output_type": "stream",
     "text": [
      "Collecting PyGObject\n",
      "  Using cached PyGObject-3.42.2.tar.gz (719 kB)\n",
      "  Installing build dependencies: started\n",
      "  Installing build dependencies: finished with status 'done'\n",
      "  Getting requirements to build wheel: started\n",
      "  Getting requirements to build wheel: finished with status 'done'\n",
      "  Preparing metadata (pyproject.toml): started\n",
      "  Preparing metadata (pyproject.toml): finished with status 'done'\n",
      "Requirement already satisfied: pycairo>=1.16.0 in c:\\users\\pc\\anaconda3\\lib\\site-packages (from PyGObject) (1.23.0)\n",
      "Building wheels for collected packages: PyGObject\n",
      "  Building wheel for PyGObject (pyproject.toml): started\n",
      "  Building wheel for PyGObject (pyproject.toml): finished with status 'error'\n",
      "Failed to build PyGObject\n",
      "Note: you may need to restart the kernel to use updated packages.\n"
     ]
    },
    {
     "name": "stderr",
     "output_type": "stream",
     "text": [
      "  error: subprocess-exited-with-error\n",
      "  \n",
      "  Building wheel for PyGObject (pyproject.toml) did not run successfully.\n",
      "  exit code: 1\n",
      "  \n",
      "  [47 lines of output]\n",
      "  running bdist_wheel\n",
      "  running build\n",
      "  running build_py\n",
      "  creating build\n",
      "  creating build\\lib.win-amd64-cpython-39\n",
      "  creating build\\lib.win-amd64-cpython-39\\pygtkcompat\n",
      "  copying pygtkcompat\\generictreemodel.py -> build\\lib.win-amd64-cpython-39\\pygtkcompat\n",
      "  copying pygtkcompat\\pygtkcompat.py -> build\\lib.win-amd64-cpython-39\\pygtkcompat\n",
      "  copying pygtkcompat\\__init__.py -> build\\lib.win-amd64-cpython-39\\pygtkcompat\n",
      "  creating build\\lib.win-amd64-cpython-39\\gi\n",
      "  copying gi\\docstring.py -> build\\lib.win-amd64-cpython-39\\gi\n",
      "  copying gi\\importer.py -> build\\lib.win-amd64-cpython-39\\gi\n",
      "  copying gi\\module.py -> build\\lib.win-amd64-cpython-39\\gi\n",
      "  copying gi\\pygtkcompat.py -> build\\lib.win-amd64-cpython-39\\gi\n",
      "  copying gi\\types.py -> build\\lib.win-amd64-cpython-39\\gi\n",
      "  copying gi\\_constants.py -> build\\lib.win-amd64-cpython-39\\gi\n",
      "  copying gi\\_error.py -> build\\lib.win-amd64-cpython-39\\gi\n",
      "  copying gi\\_gtktemplate.py -> build\\lib.win-amd64-cpython-39\\gi\n",
      "  copying gi\\_option.py -> build\\lib.win-amd64-cpython-39\\gi\n",
      "  copying gi\\_ossighelper.py -> build\\lib.win-amd64-cpython-39\\gi\n",
      "  copying gi\\_propertyhelper.py -> build\\lib.win-amd64-cpython-39\\gi\n",
      "  copying gi\\_signalhelper.py -> build\\lib.win-amd64-cpython-39\\gi\n",
      "  copying gi\\__init__.py -> build\\lib.win-amd64-cpython-39\\gi\n",
      "  creating build\\lib.win-amd64-cpython-39\\gi\\repository\n",
      "  copying gi\\repository\\__init__.py -> build\\lib.win-amd64-cpython-39\\gi\\repository\n",
      "  creating build\\lib.win-amd64-cpython-39\\gi\\overrides\n",
      "  copying gi\\overrides\\Gdk.py -> build\\lib.win-amd64-cpython-39\\gi\\overrides\n",
      "  copying gi\\overrides\\GdkPixbuf.py -> build\\lib.win-amd64-cpython-39\\gi\\overrides\n",
      "  copying gi\\overrides\\GIMarshallingTests.py -> build\\lib.win-amd64-cpython-39\\gi\\overrides\n",
      "  copying gi\\overrides\\Gio.py -> build\\lib.win-amd64-cpython-39\\gi\\overrides\n",
      "  copying gi\\overrides\\GLib.py -> build\\lib.win-amd64-cpython-39\\gi\\overrides\n",
      "  copying gi\\overrides\\GObject.py -> build\\lib.win-amd64-cpython-39\\gi\\overrides\n",
      "  copying gi\\overrides\\Gtk.py -> build\\lib.win-amd64-cpython-39\\gi\\overrides\n",
      "  copying gi\\overrides\\keysyms.py -> build\\lib.win-amd64-cpython-39\\gi\\overrides\n",
      "  copying gi\\overrides\\Pango.py -> build\\lib.win-amd64-cpython-39\\gi\\overrides\n",
      "  copying gi\\overrides\\__init__.py -> build\\lib.win-amd64-cpython-39\\gi\\overrides\n",
      "  running build_ext\n",
      "  pycairo: trying include directory: 'C:\\\\Users\\\\PC\\\\AppData\\\\Local\\\\Temp\\\\pip-build-env-bthbttq9\\\\overlay\\\\Lib\\\\site-packages\\\\cairo\\\\include'\n",
      "  pycairo: found 'C:\\\\Users\\\\PC\\\\AppData\\\\Local\\\\Temp\\\\pip-build-env-bthbttq9\\\\overlay\\\\Lib\\\\site-packages\\\\cairo\\\\include\\\\py3cairo.h'\n",
      "  building 'gi._gi' extension\n",
      "  creating build\\temp.win-amd64-cpython-39\n",
      "  creating build\\temp.win-amd64-cpython-39\\Release\n",
      "  creating build\\temp.win-amd64-cpython-39\\Release\\gi\n",
      "  \"C:\\Program Files (x86)\\Microsoft Visual Studio\\2022\\BuildTools\\VC\\Tools\\MSVC\\14.35.32215\\bin\\HostX86\\x64\\cl.exe\" /c /nologo /O2 /W3 /GL /DNDEBUG /MD -DPY_SSIZE_T_CLEAN -IC:\\Users\\PC\\AppData\\Local\\Temp\\pip-install-hizynon1\\pygobject_c99d2ccbf0dc4ec58e029f8345f53e79 -IC:\\Users\\PC\\AppData\\Local\\Temp\\pip-install-hizynon1\\pygobject_c99d2ccbf0dc4ec58e029f8345f53e79\\gi -IC:\\Users\\PC\\anaconda3\\include -IC:\\Users\\PC\\anaconda3\\Include \"-IC:\\Program Files (x86)\\Microsoft Visual Studio\\2022\\BuildTools\\VC\\Tools\\MSVC\\14.35.32215\\include\" \"-IC:\\Program Files (x86)\\Microsoft Visual Studio\\2022\\BuildTools\\VC\\Tools\\MSVC\\14.35.32215\\ATLMFC\\include\" \"-IC:\\Program Files (x86)\\Microsoft Visual Studio\\2022\\BuildTools\\VC\\Auxiliary\\VS\\include\" \"-IC:\\Program Files (x86)\\Windows Kits\\10\\include\\10.0.22000.0\\ucrt\" \"-IC:\\Program Files (x86)\\Windows Kits\\10\\\\include\\10.0.22000.0\\\\um\" \"-IC:\\Program Files (x86)\\Windows Kits\\10\\\\include\\10.0.22000.0\\\\shared\" \"-IC:\\Program Files (x86)\\Windows Kits\\10\\\\include\\10.0.22000.0\\\\winrt\" \"-IC:\\Program Files (x86)\\Windows Kits\\10\\\\include\\10.0.22000.0\\\\cppwinrt\" \"-IC:\\Program Files (x86)\\Windows Kits\\NETFXSDK\\4.8\\include\\um\" /Tcgi\\gimodule.c /Fobuild\\temp.win-amd64-cpython-39\\Release\\gi\\gimodule.obj -FImsvc_recommended_pragmas.h\n",
      "  gimodule.c\n",
      "  gi\\gimodule.c: fatal error C1083: Cannot open include file: 'msvc_recommended_pragmas.h': No such file or directory\n",
      "  error: command 'C:\\\\Program Files (x86)\\\\Microsoft Visual Studio\\\\2022\\\\BuildTools\\\\VC\\\\Tools\\\\MSVC\\\\14.35.32215\\\\bin\\\\HostX86\\\\x64\\\\cl.exe' failed with exit code 2\n",
      "  [end of output]\n",
      "  \n",
      "  note: This error originates from a subprocess, and is likely not a problem with pip.\n",
      "  ERROR: Failed building wheel for PyGObject\n",
      "ERROR: Could not build wheels for PyGObject, which is required to install pyproject.toml-based projects\n"
     ]
    }
   ],
   "source": [
    "pip install PyGObject"
   ]
  },
  {
   "cell_type": "code",
   "execution_count": 12,
   "id": "edcbd686",
   "metadata": {},
   "outputs": [
    {
     "name": "stdout",
     "output_type": "stream",
     "text": [
      "Requirement already satisfied: pip in c:\\users\\pc\\anaconda3\\lib\\site-packages (23.0.1)\n",
      "Requirement already satisfied: setuptools in c:\\users\\pc\\anaconda3\\lib\\site-packages (67.6.0)\n",
      "Note: you may need to restart the kernel to use updated packages.\n"
     ]
    }
   ],
   "source": [
    "pip install --upgrade pip setuptools"
   ]
  },
  {
   "cell_type": "code",
   "execution_count": 3,
   "id": "a168634d",
   "metadata": {},
   "outputs": [
    {
     "name": "stdout",
     "output_type": "stream",
     "text": [
      "Collecting PyGObject\n",
      "  Using cached PyGObject-3.42.2.tar.gz (719 kB)\n",
      "  Installing build dependencies: started\n",
      "  Installing build dependencies: finished with status 'done'\n",
      "  Getting requirements to build wheel: started\n",
      "  Getting requirements to build wheel: finished with status 'done'\n",
      "  Preparing metadata (pyproject.toml): started\n",
      "  Preparing metadata (pyproject.toml): finished with status 'done'\n",
      "Requirement already satisfied: pycairo>=1.16.0 in c:\\users\\pc\\anaconda3\\lib\\site-packages (from PyGObject) (1.23.0)\n",
      "Building wheels for collected packages: PyGObject\n",
      "  Building wheel for PyGObject (pyproject.toml): started\n",
      "  Building wheel for PyGObject (pyproject.toml): finished with status 'error'\n",
      "Failed to build PyGObject\n",
      "Note: you may need to restart the kernel to use updated packages.\n"
     ]
    },
    {
     "name": "stderr",
     "output_type": "stream",
     "text": [
      "  error: subprocess-exited-with-error\n",
      "  \n",
      "  Building wheel for PyGObject (pyproject.toml) did not run successfully.\n",
      "  exit code: 1\n",
      "  \n",
      "  [47 lines of output]\n",
      "  running bdist_wheel\n",
      "  running build\n",
      "  running build_py\n",
      "  creating build\n",
      "  creating build\\lib.win-amd64-cpython-39\n",
      "  creating build\\lib.win-amd64-cpython-39\\pygtkcompat\n",
      "  copying pygtkcompat\\generictreemodel.py -> build\\lib.win-amd64-cpython-39\\pygtkcompat\n",
      "  copying pygtkcompat\\pygtkcompat.py -> build\\lib.win-amd64-cpython-39\\pygtkcompat\n",
      "  copying pygtkcompat\\__init__.py -> build\\lib.win-amd64-cpython-39\\pygtkcompat\n",
      "  creating build\\lib.win-amd64-cpython-39\\gi\n",
      "  copying gi\\docstring.py -> build\\lib.win-amd64-cpython-39\\gi\n",
      "  copying gi\\importer.py -> build\\lib.win-amd64-cpython-39\\gi\n",
      "  copying gi\\module.py -> build\\lib.win-amd64-cpython-39\\gi\n",
      "  copying gi\\pygtkcompat.py -> build\\lib.win-amd64-cpython-39\\gi\n",
      "  copying gi\\types.py -> build\\lib.win-amd64-cpython-39\\gi\n",
      "  copying gi\\_constants.py -> build\\lib.win-amd64-cpython-39\\gi\n",
      "  copying gi\\_error.py -> build\\lib.win-amd64-cpython-39\\gi\n",
      "  copying gi\\_gtktemplate.py -> build\\lib.win-amd64-cpython-39\\gi\n",
      "  copying gi\\_option.py -> build\\lib.win-amd64-cpython-39\\gi\n",
      "  copying gi\\_ossighelper.py -> build\\lib.win-amd64-cpython-39\\gi\n",
      "  copying gi\\_propertyhelper.py -> build\\lib.win-amd64-cpython-39\\gi\n",
      "  copying gi\\_signalhelper.py -> build\\lib.win-amd64-cpython-39\\gi\n",
      "  copying gi\\__init__.py -> build\\lib.win-amd64-cpython-39\\gi\n",
      "  creating build\\lib.win-amd64-cpython-39\\gi\\repository\n",
      "  copying gi\\repository\\__init__.py -> build\\lib.win-amd64-cpython-39\\gi\\repository\n",
      "  creating build\\lib.win-amd64-cpython-39\\gi\\overrides\n",
      "  copying gi\\overrides\\Gdk.py -> build\\lib.win-amd64-cpython-39\\gi\\overrides\n",
      "  copying gi\\overrides\\GdkPixbuf.py -> build\\lib.win-amd64-cpython-39\\gi\\overrides\n",
      "  copying gi\\overrides\\GIMarshallingTests.py -> build\\lib.win-amd64-cpython-39\\gi\\overrides\n",
      "  copying gi\\overrides\\Gio.py -> build\\lib.win-amd64-cpython-39\\gi\\overrides\n",
      "  copying gi\\overrides\\GLib.py -> build\\lib.win-amd64-cpython-39\\gi\\overrides\n",
      "  copying gi\\overrides\\GObject.py -> build\\lib.win-amd64-cpython-39\\gi\\overrides\n",
      "  copying gi\\overrides\\Gtk.py -> build\\lib.win-amd64-cpython-39\\gi\\overrides\n",
      "  copying gi\\overrides\\keysyms.py -> build\\lib.win-amd64-cpython-39\\gi\\overrides\n",
      "  copying gi\\overrides\\Pango.py -> build\\lib.win-amd64-cpython-39\\gi\\overrides\n",
      "  copying gi\\overrides\\__init__.py -> build\\lib.win-amd64-cpython-39\\gi\\overrides\n",
      "  running build_ext\n",
      "  pycairo: trying include directory: 'C:\\\\Users\\\\PC\\\\AppData\\\\Local\\\\Temp\\\\pip-build-env-386t0fdf\\\\overlay\\\\Lib\\\\site-packages\\\\cairo\\\\include'\n",
      "  pycairo: found 'C:\\\\Users\\\\PC\\\\AppData\\\\Local\\\\Temp\\\\pip-build-env-386t0fdf\\\\overlay\\\\Lib\\\\site-packages\\\\cairo\\\\include\\\\py3cairo.h'\n",
      "  building 'gi._gi' extension\n",
      "  creating build\\temp.win-amd64-cpython-39\n",
      "  creating build\\temp.win-amd64-cpython-39\\Release\n",
      "  creating build\\temp.win-amd64-cpython-39\\Release\\gi\n",
      "  \"C:\\Program Files (x86)\\Microsoft Visual Studio\\2022\\BuildTools\\VC\\Tools\\MSVC\\14.35.32215\\bin\\HostX86\\x64\\cl.exe\" /c /nologo /O2 /W3 /GL /DNDEBUG /MD -DPY_SSIZE_T_CLEAN -IC:\\Users\\PC\\AppData\\Local\\Temp\\pip-install-nb3td7gw\\pygobject_0fc01eb0995241dab546655dfb9f3138 -IC:\\Users\\PC\\AppData\\Local\\Temp\\pip-install-nb3td7gw\\pygobject_0fc01eb0995241dab546655dfb9f3138\\gi -IC:\\Users\\PC\\anaconda3\\include -IC:\\Users\\PC\\anaconda3\\Include \"-IC:\\Program Files (x86)\\Microsoft Visual Studio\\2022\\BuildTools\\VC\\Tools\\MSVC\\14.35.32215\\include\" \"-IC:\\Program Files (x86)\\Microsoft Visual Studio\\2022\\BuildTools\\VC\\Tools\\MSVC\\14.35.32215\\ATLMFC\\include\" \"-IC:\\Program Files (x86)\\Microsoft Visual Studio\\2022\\BuildTools\\VC\\Auxiliary\\VS\\include\" \"-IC:\\Program Files (x86)\\Windows Kits\\10\\include\\10.0.22000.0\\ucrt\" \"-IC:\\Program Files (x86)\\Windows Kits\\10\\\\include\\10.0.22000.0\\\\um\" \"-IC:\\Program Files (x86)\\Windows Kits\\10\\\\include\\10.0.22000.0\\\\shared\" \"-IC:\\Program Files (x86)\\Windows Kits\\10\\\\include\\10.0.22000.0\\\\winrt\" \"-IC:\\Program Files (x86)\\Windows Kits\\10\\\\include\\10.0.22000.0\\\\cppwinrt\" \"-IC:\\Program Files (x86)\\Windows Kits\\NETFXSDK\\4.8\\include\\um\" /Tcgi\\gimodule.c /Fobuild\\temp.win-amd64-cpython-39\\Release\\gi\\gimodule.obj -FImsvc_recommended_pragmas.h\n",
      "  gimodule.c\n",
      "  gi\\gimodule.c: fatal error C1083: Cannot open include file: 'msvc_recommended_pragmas.h': No such file or directory\n",
      "  error: command 'C:\\\\Program Files (x86)\\\\Microsoft Visual Studio\\\\2022\\\\BuildTools\\\\VC\\\\Tools\\\\MSVC\\\\14.35.32215\\\\bin\\\\HostX86\\\\x64\\\\cl.exe' failed with exit code 2\n",
      "  [end of output]\n",
      "  \n",
      "  note: This error originates from a subprocess, and is likely not a problem with pip.\n",
      "  ERROR: Failed building wheel for PyGObject\n",
      "ERROR: Could not build wheels for PyGObject, which is required to install pyproject.toml-based projects\n"
     ]
    }
   ],
   "source": [
    "pip install PyGObject"
   ]
  },
  {
   "cell_type": "code",
   "execution_count": 4,
   "id": "7db49c00",
   "metadata": {},
   "outputs": [
    {
     "name": "stdout",
     "output_type": "stream",
     "text": [
      "Requirement already satisfied: wheel in c:\\users\\pc\\anaconda3\\lib\\site-packages (0.37.1)\n",
      "Requirement already satisfied: setuptools in c:\\users\\pc\\anaconda3\\lib\\site-packages (67.6.0)\n",
      "Note: you may need to restart the kernel to use updated packages.\n"
     ]
    }
   ],
   "source": [
    "pip install wheel setuptools"
   ]
  },
  {
   "cell_type": "code",
   "execution_count": 5,
   "id": "ec4f28f0",
   "metadata": {},
   "outputs": [
    {
     "name": "stdout",
     "output_type": "stream",
     "text": [
      "Requirement already satisfied: pycairo in c:\\users\\pc\\anaconda3\\lib\\site-packages (1.23.0)\n",
      "Note: you may need to restart the kernel to use updated packages.\n"
     ]
    }
   ],
   "source": [
    "pip install pycairo"
   ]
  },
  {
   "cell_type": "code",
   "execution_count": 11,
   "id": "5b32076c",
   "metadata": {},
   "outputs": [
    {
     "name": "stdout",
     "output_type": "stream",
     "text": [
      "Collecting PyGObject\n",
      "  Using cached PyGObject-3.42.2.tar.gz (719 kB)\n",
      "  Installing build dependencies: started\n",
      "  Installing build dependencies: finished with status 'done'\n",
      "  Getting requirements to build wheel: started\n",
      "  Getting requirements to build wheel: finished with status 'done'\n",
      "  Preparing metadata (pyproject.toml): started\n",
      "  Preparing metadata (pyproject.toml): finished with status 'done'\n",
      "Requirement already satisfied: pycairo>=1.16.0 in c:\\users\\pc\\anaconda3\\lib\\site-packages (from PyGObject) (1.23.0)\n",
      "Building wheels for collected packages: PyGObject\n",
      "  Building wheel for PyGObject (pyproject.toml): started\n",
      "  Building wheel for PyGObject (pyproject.toml): finished with status 'error'\n",
      "Failed to build PyGObject\n",
      "Note: you may need to restart the kernel to use updated packages.\n"
     ]
    },
    {
     "name": "stderr",
     "output_type": "stream",
     "text": [
      "  error: subprocess-exited-with-error\n",
      "  \n",
      "  Building wheel for PyGObject (pyproject.toml) did not run successfully.\n",
      "  exit code: 1\n",
      "  \n",
      "  [47 lines of output]\n",
      "  running bdist_wheel\n",
      "  running build\n",
      "  running build_py\n",
      "  creating build\n",
      "  creating build\\lib.win-amd64-cpython-39\n",
      "  creating build\\lib.win-amd64-cpython-39\\pygtkcompat\n",
      "  copying pygtkcompat\\generictreemodel.py -> build\\lib.win-amd64-cpython-39\\pygtkcompat\n",
      "  copying pygtkcompat\\pygtkcompat.py -> build\\lib.win-amd64-cpython-39\\pygtkcompat\n",
      "  copying pygtkcompat\\__init__.py -> build\\lib.win-amd64-cpython-39\\pygtkcompat\n",
      "  creating build\\lib.win-amd64-cpython-39\\gi\n",
      "  copying gi\\docstring.py -> build\\lib.win-amd64-cpython-39\\gi\n",
      "  copying gi\\importer.py -> build\\lib.win-amd64-cpython-39\\gi\n",
      "  copying gi\\module.py -> build\\lib.win-amd64-cpython-39\\gi\n",
      "  copying gi\\pygtkcompat.py -> build\\lib.win-amd64-cpython-39\\gi\n",
      "  copying gi\\types.py -> build\\lib.win-amd64-cpython-39\\gi\n",
      "  copying gi\\_constants.py -> build\\lib.win-amd64-cpython-39\\gi\n",
      "  copying gi\\_error.py -> build\\lib.win-amd64-cpython-39\\gi\n",
      "  copying gi\\_gtktemplate.py -> build\\lib.win-amd64-cpython-39\\gi\n",
      "  copying gi\\_option.py -> build\\lib.win-amd64-cpython-39\\gi\n",
      "  copying gi\\_ossighelper.py -> build\\lib.win-amd64-cpython-39\\gi\n",
      "  copying gi\\_propertyhelper.py -> build\\lib.win-amd64-cpython-39\\gi\n",
      "  copying gi\\_signalhelper.py -> build\\lib.win-amd64-cpython-39\\gi\n",
      "  copying gi\\__init__.py -> build\\lib.win-amd64-cpython-39\\gi\n",
      "  creating build\\lib.win-amd64-cpython-39\\gi\\repository\n",
      "  copying gi\\repository\\__init__.py -> build\\lib.win-amd64-cpython-39\\gi\\repository\n",
      "  creating build\\lib.win-amd64-cpython-39\\gi\\overrides\n",
      "  copying gi\\overrides\\Gdk.py -> build\\lib.win-amd64-cpython-39\\gi\\overrides\n",
      "  copying gi\\overrides\\GdkPixbuf.py -> build\\lib.win-amd64-cpython-39\\gi\\overrides\n",
      "  copying gi\\overrides\\GIMarshallingTests.py -> build\\lib.win-amd64-cpython-39\\gi\\overrides\n",
      "  copying gi\\overrides\\Gio.py -> build\\lib.win-amd64-cpython-39\\gi\\overrides\n",
      "  copying gi\\overrides\\GLib.py -> build\\lib.win-amd64-cpython-39\\gi\\overrides\n",
      "  copying gi\\overrides\\GObject.py -> build\\lib.win-amd64-cpython-39\\gi\\overrides\n",
      "  copying gi\\overrides\\Gtk.py -> build\\lib.win-amd64-cpython-39\\gi\\overrides\n",
      "  copying gi\\overrides\\keysyms.py -> build\\lib.win-amd64-cpython-39\\gi\\overrides\n",
      "  copying gi\\overrides\\Pango.py -> build\\lib.win-amd64-cpython-39\\gi\\overrides\n",
      "  copying gi\\overrides\\__init__.py -> build\\lib.win-amd64-cpython-39\\gi\\overrides\n",
      "  running build_ext\n",
      "  pycairo: trying include directory: 'C:\\\\Users\\\\PC\\\\AppData\\\\Local\\\\Temp\\\\pip-build-env-yw0wqbne\\\\overlay\\\\Lib\\\\site-packages\\\\cairo\\\\include'\n",
      "  pycairo: found 'C:\\\\Users\\\\PC\\\\AppData\\\\Local\\\\Temp\\\\pip-build-env-yw0wqbne\\\\overlay\\\\Lib\\\\site-packages\\\\cairo\\\\include\\\\py3cairo.h'\n",
      "  building 'gi._gi' extension\n",
      "  creating build\\temp.win-amd64-cpython-39\n",
      "  creating build\\temp.win-amd64-cpython-39\\Release\n",
      "  creating build\\temp.win-amd64-cpython-39\\Release\\gi\n",
      "  \"C:\\Program Files (x86)\\Microsoft Visual Studio\\2022\\BuildTools\\VC\\Tools\\MSVC\\14.35.32215\\bin\\HostX86\\x64\\cl.exe\" /c /nologo /O2 /W3 /GL /DNDEBUG /MD -DPY_SSIZE_T_CLEAN -IC:\\Users\\PC\\AppData\\Local\\Temp\\pip-install-v2lbh43j\\pygobject_0784103c92f149fa91084d20b6204781 -IC:\\Users\\PC\\AppData\\Local\\Temp\\pip-install-v2lbh43j\\pygobject_0784103c92f149fa91084d20b6204781\\gi -IC:\\Users\\PC\\anaconda3\\include -IC:\\Users\\PC\\anaconda3\\Include \"-IC:\\Program Files (x86)\\Microsoft Visual Studio\\2022\\BuildTools\\VC\\Tools\\MSVC\\14.35.32215\\include\" \"-IC:\\Program Files (x86)\\Microsoft Visual Studio\\2022\\BuildTools\\VC\\Tools\\MSVC\\14.35.32215\\ATLMFC\\include\" \"-IC:\\Program Files (x86)\\Microsoft Visual Studio\\2022\\BuildTools\\VC\\Auxiliary\\VS\\include\" \"-IC:\\Program Files (x86)\\Windows Kits\\10\\include\\10.0.22000.0\\ucrt\" \"-IC:\\Program Files (x86)\\Windows Kits\\10\\\\include\\10.0.22000.0\\\\um\" \"-IC:\\Program Files (x86)\\Windows Kits\\10\\\\include\\10.0.22000.0\\\\shared\" \"-IC:\\Program Files (x86)\\Windows Kits\\10\\\\include\\10.0.22000.0\\\\winrt\" \"-IC:\\Program Files (x86)\\Windows Kits\\10\\\\include\\10.0.22000.0\\\\cppwinrt\" \"-IC:\\Program Files (x86)\\Windows Kits\\NETFXSDK\\4.8\\include\\um\" /Tcgi\\gimodule.c /Fobuild\\temp.win-amd64-cpython-39\\Release\\gi\\gimodule.obj -FImsvc_recommended_pragmas.h\n",
      "  gimodule.c\n",
      "  gi\\gimodule.c: fatal error C1083: Cannot open include file: 'msvc_recommended_pragmas.h': No such file or directory\n",
      "  error: command 'C:\\\\Program Files (x86)\\\\Microsoft Visual Studio\\\\2022\\\\BuildTools\\\\VC\\\\Tools\\\\MSVC\\\\14.35.32215\\\\bin\\\\HostX86\\\\x64\\\\cl.exe' failed with exit code 2\n",
      "  [end of output]\n",
      "  \n",
      "  note: This error originates from a subprocess, and is likely not a problem with pip.\n",
      "  ERROR: Failed building wheel for PyGObject\n",
      "ERROR: Could not build wheels for PyGObject, which is required to install pyproject.toml-based projects\n"
     ]
    }
   ],
   "source": [
    "pip install PyGObject"
   ]
  },
  {
   "cell_type": "code",
   "execution_count": 10,
   "id": "e9ef397e",
   "metadata": {},
   "outputs": [
    {
     "ename": "SyntaxError",
     "evalue": "invalid syntax (629497118.py, line 1)",
     "output_type": "error",
     "traceback": [
      "\u001b[1;36m  File \u001b[1;32m\"C:\\Users\\PC\\AppData\\Local\\Temp\\ipykernel_10276\\629497118.py\"\u001b[1;36m, line \u001b[1;32m1\u001b[0m\n\u001b[1;33m    python -m pip install --upgrade pip\u001b[0m\n\u001b[1;37m              ^\u001b[0m\n\u001b[1;31mSyntaxError\u001b[0m\u001b[1;31m:\u001b[0m invalid syntax\n"
     ]
    }
   ],
   "source": [
    "python -m pip install --upgrade pip"
   ]
  },
  {
   "cell_type": "code",
   "execution_count": 14,
   "id": "c7ca70d8",
   "metadata": {},
   "outputs": [],
   "source": [
    "import os\n",
    "import cv2\n",
    "\n",
    "# Đường dẫn tới folder chứa ảnh\n",
    "img_folder = 'C:\\\\Users\\\\PC\\\\ojective detection\\\\yolo4\\\\plane_data\\\\training'\n",
    "\n",
    "# Truy cập vào folder\n",
    "os.chdir(img_folder)\n",
    "\n",
    "# Liệt kê tất cả các file trong folder\n",
    "file_list = os.listdir()\n",
    "# Resize và lưu lại từng ảnh\n",
    "for file_name in file_list:\n",
    "    # Kiểm tra nếu là file ảnh\n",
    "    if file_name.endswith('.jpg') or file_name.endswith('.jpeg') or file_name.endswith('.png'):\n",
    "        # Đọc ảnh vào\n",
    "        img = cv2.imread(file_name)\n",
    "\n",
    "        # Resize ảnh\n",
    "        resized_img = cv2.resize(img, (416, 416))\n",
    "\n",
    "        # Lưu ảnh lại\n",
    "        new_file_name = 'img_00' + file_name\n",
    "        cv2.imwrite(new_file_name, resized_img)"
   ]
  },
  {
   "cell_type": "code",
   "execution_count": 5,
   "id": "ac808e1a",
   "metadata": {},
   "outputs": [
    {
     "ename": "error",
     "evalue": "OpenCV(4.7.0) D:\\a\\opencv-python\\opencv-python\\opencv\\modules\\highgui\\src\\window.cpp:1272: error: (-2:Unspecified error) The function is not implemented. Rebuild the library with Windows, GTK+ 2.x or Cocoa support. If you are on Ubuntu or Debian, install libgtk2.0-dev and pkg-config, then re-run cmake or configure script in function 'cvShowImage'\n",
     "output_type": "error",
     "traceback": [
      "\u001b[1;31m---------------------------------------------------------------------------\u001b[0m",
      "\u001b[1;31merror\u001b[0m                                     Traceback (most recent call last)",
      "Cell \u001b[1;32mIn[5], line 18\u001b[0m\n\u001b[0;32m     16\u001b[0m \u001b[38;5;28;01mfor\u001b[39;00m f \u001b[38;5;129;01min\u001b[39;00m img_files:\n\u001b[0;32m     17\u001b[0m     img \u001b[38;5;241m=\u001b[39m cv2\u001b[38;5;241m.\u001b[39mimread(f)\n\u001b[1;32m---> 18\u001b[0m     \u001b[43mcv2\u001b[49m\u001b[38;5;241;43m.\u001b[39;49m\u001b[43mimshow\u001b[49m\u001b[43m(\u001b[49m\u001b[38;5;124;43m'\u001b[39;49m\u001b[38;5;124;43mimage\u001b[39;49m\u001b[38;5;124;43m'\u001b[39;49m\u001b[43m,\u001b[49m\u001b[43m \u001b[49m\u001b[43mimg\u001b[49m\u001b[43m)\u001b[49m\n\u001b[0;32m     19\u001b[0m     cv2\u001b[38;5;241m.\u001b[39mwaitKey(\u001b[38;5;241m1000\u001b[39m)  \u001b[38;5;66;03m# tạm dừng 1 giây\u001b[39;00m\n\u001b[0;32m     20\u001b[0m     cv2\u001b[38;5;241m.\u001b[39mdestroyAllWindows()\n",
      "\u001b[1;31merror\u001b[0m: OpenCV(4.7.0) D:\\a\\opencv-python\\opencv-python\\opencv\\modules\\highgui\\src\\window.cpp:1272: error: (-2:Unspecified error) The function is not implemented. Rebuild the library with Windows, GTK+ 2.x or Cocoa support. If you are on Ubuntu or Debian, install libgtk2.0-dev and pkg-config, then re-run cmake or configure script in function 'cvShowImage'\n"
     ]
    }
   ],
   "source": [
    "import cv2\n",
    "import os\n",
    "import time\n",
    "\n",
    "# Đường dẫn đến thư mục chứa ảnh\n",
    "img_folder = \"C:\\\\Users\\\\PC\\\\ojective detection\\\\yolo4\\\\plane_data\\\\training\"\n",
    "\n",
    "# Lấy danh sách tất cả các tệp tin ảnh trong thư mục\n",
    "img_files = os.listdir(img_folder)\n",
    "img_files = [os.path.join(img_folder, f) for f in img_files if f.endswith('.jpg')]\n",
    "\n",
    "# Sắp xếp danh sách các tệp tin theo thứ tự tên file\n",
    "img_files.sort()\n",
    "\n",
    "# Lặp qua từng tệp tin và hiển thị ảnh\n",
    "for f in img_files:\n",
    "    img = cv2.imread(f)\n",
    "    cv2.imshow('image', img)\n",
    "    cv2.waitKey(1000)  # tạm dừng 1 giây\n",
    "    cv2.destroyAllWindows()\n",
    "\n",
    "print(\"Done!\")\n"
   ]
  },
  {
   "cell_type": "code",
   "execution_count": null,
   "id": "8319a8fa",
   "metadata": {},
   "outputs": [],
   "source": []
  }
 ],
 "metadata": {
  "kernelspec": {
   "display_name": "Python 3 (ipykernel)",
   "language": "python",
   "name": "python3"
  },
  "language_info": {
   "codemirror_mode": {
    "name": "ipython",
    "version": 3
   },
   "file_extension": ".py",
   "mimetype": "text/x-python",
   "name": "python",
   "nbconvert_exporter": "python",
   "pygments_lexer": "ipython3",
   "version": "3.9.16"
  }
 },
 "nbformat": 4,
 "nbformat_minor": 5
}
